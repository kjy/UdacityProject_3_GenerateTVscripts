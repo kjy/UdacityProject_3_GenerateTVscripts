{
 "cells": [
  {
   "cell_type": "markdown",
   "metadata": {
    "deletable": true,
    "editable": true
   },
   "source": [
    "# TV Script Generation\n",
    "In this project, you'll generate your own [Simpsons](https://en.wikipedia.org/wiki/The_Simpsons) TV scripts using RNNs.  You'll be using part of the [Simpsons dataset](https://www.kaggle.com/wcukierski/the-simpsons-by-the-data) of scripts from 27 seasons.  The Neural Network you'll build will generate a new TV script for a scene at [Moe's Tavern](https://simpsonswiki.com/wiki/Moe's_Tavern).\n",
    "## Get the Data\n",
    "The data is already provided for you.  You'll be using a subset of the original dataset.  It consists of only the scenes in Moe's Tavern.  This doesn't include other versions of the tavern, like \"Moe's Cavern\", \"Flaming Moe's\", \"Uncle Moe's Family Feed-Bag\", etc.."
   ]
  },
  {
   "cell_type": "code",
   "execution_count": 1,
   "metadata": {
    "collapsed": false,
    "deletable": true,
    "editable": true
   },
   "outputs": [],
   "source": [
    "\"\"\"\n",
    "DON'T MODIFY ANYTHING IN THIS CELL\n",
    "\"\"\"\n",
    "import helper\n",
    "\n",
    "data_dir = './data/simpsons/moes_tavern_lines.txt'\n",
    "text = helper.load_data(data_dir)\n",
    "# Ignore notice, since we don't use it for analysing the data\n",
    "text = text[81:]"
   ]
  },
  {
   "cell_type": "markdown",
   "metadata": {
    "deletable": true,
    "editable": true
   },
   "source": [
    "## Explore the Data\n",
    "Play around with `view_sentence_range` to view different parts of the data."
   ]
  },
  {
   "cell_type": "code",
   "execution_count": 2,
   "metadata": {
    "collapsed": false,
    "deletable": true,
    "editable": true
   },
   "outputs": [
    {
     "name": "stdout",
     "output_type": "stream",
     "text": [
      "Dataset Stats\n",
      "Roughly the number of unique words: 11492\n",
      "Number of scenes: 262\n",
      "Average number of sentences in each scene: 15.248091603053435\n",
      "Number of lines: 4257\n",
      "Average number of words in each line: 11.50434578341555\n",
      "\n",
      "The sentences 55 to 64:\n",
      "Homer_Simpson: Oh, me and my trenchant mouth.\n",
      "Homer_Simpson: Please, you've got to open that store.\n",
      "Little_Man: Let me think about it... Eh... No.\n",
      "Homer_Simpson: Okay, okay. But I want you to see a picture of the little girl you're disappointing. (GOES THROUGH HIS WALLET) Well I don't have one.\n",
      "Moe_Szyslak: (TO LITTLE MAN) Come on, Jer. Open up. Be a pal. Remember when I pulled you and your wife out of that burning car?\n",
      "Little_Man: (GRUDGINGLY) Okay. Okay. But now we're even. (TO HOMER) So what does your daughter need?\n",
      "Homer_Simpson: (SMOOTHLY) I'll have you know, I wrote it down.\n",
      "Homer_Simpson: Number Four and a half -- Stupid gum!\n",
      "Homer_Simpson: Number Four and a Half reed! Whoo hoo!\n"
     ]
    }
   ],
   "source": [
    "#view_sentence_range = (0, 10)  default\n",
    "#view_sentence_range = (11, 21)\n",
    "view_sentence_range = (55, 64)\n",
    "\n",
    "\"\"\"\n",
    "DON'T MODIFY ANYTHING IN THIS CELL\n",
    "\"\"\"\n",
    "import numpy as np\n",
    "\n",
    "print('Dataset Stats')\n",
    "print('Roughly the number of unique words: {}'.format(len({word: None for word in text.split()})))\n",
    "scenes = text.split('\\n\\n')\n",
    "print('Number of scenes: {}'.format(len(scenes)))\n",
    "sentence_count_scene = [scene.count('\\n') for scene in scenes]\n",
    "print('Average number of sentences in each scene: {}'.format(np.average(sentence_count_scene)))\n",
    "\n",
    "sentences = [sentence for scene in scenes for sentence in scene.split('\\n')]\n",
    "print('Number of lines: {}'.format(len(sentences)))\n",
    "word_count_sentence = [len(sentence.split()) for sentence in sentences]\n",
    "print('Average number of words in each line: {}'.format(np.average(word_count_sentence)))\n",
    "\n",
    "print()\n",
    "print('The sentences {} to {}:'.format(*view_sentence_range))\n",
    "print('\\n'.join(text.split('\\n')[view_sentence_range[0]:view_sentence_range[1]]))"
   ]
  },
  {
   "cell_type": "markdown",
   "metadata": {
    "deletable": true,
    "editable": true
   },
   "source": [
    "## Implement Preprocessing Functions\n",
    "The first thing to do to any dataset is preprocessing.  Implement the following preprocessing functions below:\n",
    "- Lookup Table\n",
    "- Tokenize Punctuation\n",
    "\n",
    "### Lookup Table\n",
    "To create a word embedding, you first need to transform the words to ids.  In this function, create two dictionaries:\n",
    "- Dictionary to go from the words to an id, we'll call `vocab_to_int`\n",
    "- Dictionary to go from the id to word, we'll call `int_to_vocab`\n",
    "\n",
    "Return these dictionaries in the following tuple `(vocab_to_int, int_to_vocab)`"
   ]
  },
  {
   "cell_type": "code",
   "execution_count": 3,
   "metadata": {
    "collapsed": false,
    "deletable": true,
    "editable": true
   },
   "outputs": [
    {
     "name": "stdout",
     "output_type": "stream",
     "text": [
      "Tests Passed\n"
     ]
    }
   ],
   "source": [
    "import numpy as np\n",
    "import problem_unittests as tests\n",
    "\n",
    "def create_lookup_tables(text):\n",
    "    \"\"\"\n",
    "    Create lookup tables for vocabulary\n",
    "    :param text: The text of tv scripts split into words\n",
    "    :return: A tuple of dicts (vocab_to_int, int_to_vocab)\n",
    "    \"\"\"\n",
    "    # TODO: Implement Function\n",
    "    text_sorted = sorted(list(set(text)))\n",
    "    vocab_to_int = dict((word, i) for i, word in enumerate(text_sorted))\n",
    "    int_to_vocab = dict((i, word) for i, word in enumerate(text_sorted))\n",
    "    # return None, None\n",
    "    return (vocab_to_int, int_to_vocab)\n",
    "\n",
    "\n",
    "\"\"\"\n",
    "DON'T MODIFY ANYTHING IN THIS CELL THAT IS BELOW THIS LINE\n",
    "\"\"\"\n",
    "tests.test_create_lookup_tables(create_lookup_tables)"
   ]
  },
  {
   "cell_type": "markdown",
   "metadata": {
    "deletable": true,
    "editable": true
   },
   "source": [
    "### Tokenize Punctuation\n",
    "We'll be splitting the script into a word array using spaces as delimiters.  However, punctuations like periods and exclamation marks make it hard for the neural network to distinguish between the word \"bye\" and \"bye!\".\n",
    "\n",
    "Implement the function `token_lookup` to return a dict that will be used to tokenize symbols like \"!\" into \"||Exclamation_Mark||\".  Create a dictionary for the following symbols where the symbol is the key and value is the token:\n",
    "- Period ( . )\n",
    "- Comma ( , )\n",
    "- Quotation Mark ( \" )\n",
    "- Semicolon ( ; )\n",
    "- Exclamation mark ( ! )\n",
    "- Question mark ( ? )\n",
    "- Left Parentheses ( ( )\n",
    "- Right Parentheses ( ) )\n",
    "- Dash ( -- )\n",
    "- Return ( \\n )\n",
    "\n",
    "This dictionary will be used to token the symbols and add the delimiter (space) around it.  This separates the symbols as it's own word, making it easier for the neural network to predict on the next word. Make sure you don't use a token that could be confused as a word. Instead of using the token \"dash\", try using something like \"||dash||\"."
   ]
  },
  {
   "cell_type": "code",
   "execution_count": 4,
   "metadata": {
    "collapsed": false,
    "deletable": true,
    "editable": true
   },
   "outputs": [
    {
     "name": "stdout",
     "output_type": "stream",
     "text": [
      "Tests Passed\n"
     ]
    }
   ],
   "source": [
    "def token_lookup():\n",
    "    \"\"\"\n",
    "    Generate a dict to turn punctuation into a token.\n",
    "    :return: Tokenize dictionary where the key is the punctuation and the value is the token\n",
    "    \"\"\"\n",
    "    # TODO: Implement Function\n",
    "    keys = [\".\", \",\", '\"', \";\", \"!\", \"?\", \"(\", \")\", \"--\", \"\\n\"] \n",
    "    values = [\"||Period||\", \"||Comma||\", \"||Quotation_mark||\", \"||Semicolon||\", \"||Exclamation_mark||\", \"||Question_mark||\", \n",
    "              \"||Left_parenthesis||\", \"||Right_parenthesis||\", \"||Dash||\", \"||Return||\"]\n",
    "    # dictionary = dict(zip(keys, values))\n",
    "    dictionary = dict(zip(keys, values))\n",
    "    return dictionary\n",
    "\n",
    "\n",
    "\"\"\"\n",
    "DON'T MODIFY ANYTHING IN THIS CELL THAT IS BELOW THIS LINE\n",
    "\"\"\"\n",
    "tests.test_tokenize(token_lookup)"
   ]
  },
  {
   "cell_type": "markdown",
   "metadata": {
    "deletable": true,
    "editable": true
   },
   "source": [
    "## Preprocess all the data and save it\n",
    "Running the code cell below will preprocess all the data and save it to file."
   ]
  },
  {
   "cell_type": "code",
   "execution_count": 5,
   "metadata": {
    "collapsed": false,
    "deletable": true,
    "editable": true
   },
   "outputs": [],
   "source": [
    "\"\"\"\n",
    "DON'T MODIFY ANYTHING IN THIS CELL\n",
    "\"\"\"\n",
    "# Preprocess Training, Validation, and Testing Data\n",
    "helper.preprocess_and_save_data(data_dir, token_lookup, create_lookup_tables)"
   ]
  },
  {
   "cell_type": "markdown",
   "metadata": {
    "deletable": true,
    "editable": true
   },
   "source": [
    "# Check Point\n",
    "This is your first checkpoint. If you ever decide to come back to this notebook or have to restart the notebook, you can start from here. The preprocessed data has been saved to disk."
   ]
  },
  {
   "cell_type": "code",
   "execution_count": 6,
   "metadata": {
    "collapsed": false,
    "deletable": true,
    "editable": true
   },
   "outputs": [],
   "source": [
    "\"\"\"\n",
    "DON'T MODIFY ANYTHING IN THIS CELL\n",
    "\"\"\"\n",
    "import helper\n",
    "import numpy as np\n",
    "import problem_unittests as tests\n",
    "\n",
    "int_text, vocab_to_int, int_to_vocab, token_dict = helper.load_preprocess()"
   ]
  },
  {
   "cell_type": "markdown",
   "metadata": {
    "deletable": true,
    "editable": true
   },
   "source": [
    "## Build the Neural Network\n",
    "You'll build the components necessary to build a RNN by implementing the following functions below:\n",
    "- get_inputs\n",
    "- get_init_cell\n",
    "- get_embed\n",
    "- build_rnn\n",
    "- build_nn\n",
    "- get_batches\n",
    "\n",
    "### Check the Version of TensorFlow and Access to GPU"
   ]
  },
  {
   "cell_type": "code",
   "execution_count": 7,
   "metadata": {
    "collapsed": false,
    "deletable": true,
    "editable": true
   },
   "outputs": [
    {
     "name": "stdout",
     "output_type": "stream",
     "text": [
      "TensorFlow Version: 1.0.0\n",
      "Default GPU Device: /gpu:0\n"
     ]
    }
   ],
   "source": [
    "\"\"\"\n",
    "DON'T MODIFY ANYTHING IN THIS CELL\n",
    "\"\"\"\n",
    "from distutils.version import LooseVersion\n",
    "import warnings\n",
    "import tensorflow as tf\n",
    "\n",
    "# Check TensorFlow Version\n",
    "assert LooseVersion(tf.__version__) >= LooseVersion('1.0'), 'Please use TensorFlow version 1.0 or newer'\n",
    "print('TensorFlow Version: {}'.format(tf.__version__))\n",
    "\n",
    "# Check for a GPU\n",
    "if not tf.test.gpu_device_name():\n",
    "    warnings.warn('No GPU found. Please use a GPU to train your neural network.')\n",
    "else:\n",
    "    print('Default GPU Device: {}'.format(tf.test.gpu_device_name()))"
   ]
  },
  {
   "cell_type": "markdown",
   "metadata": {
    "deletable": true,
    "editable": true
   },
   "source": [
    "### Input\n",
    "Implement the `get_inputs()` function to create TF Placeholders for the Neural Network.  It should create the following placeholders:\n",
    "- Input text placeholder named \"input\" using the [TF Placeholder](https://www.tensorflow.org/api_docs/python/tf/placeholder) `name` parameter.\n",
    "- Targets placeholder\n",
    "- Learning Rate placeholder\n",
    "\n",
    "Return the placeholders in the following the tuple `(Input, Targets, LearingRate)`"
   ]
  },
  {
   "cell_type": "code",
   "execution_count": 8,
   "metadata": {
    "collapsed": false,
    "deletable": true,
    "editable": true
   },
   "outputs": [
    {
     "name": "stdout",
     "output_type": "stream",
     "text": [
      "Tests Passed\n"
     ]
    }
   ],
   "source": [
    "def get_inputs():\n",
    "    \"\"\"\n",
    "    Create TF Placeholders for input, targets, and learning rate.\n",
    "    :return: Tuple (input, targets, learning rate)\n",
    "    \"\"\"\n",
    "    # TODO: Implement Function\n",
    "    Input = tf.placeholder(tf.int32, [None,None], name = 'input')\n",
    "    Targets = tf.placeholder(tf.int32, [None,None], name = 'Targets')\n",
    "    LearningRate = tf.placeholder(tf.float32, None, name = 'LearningRate')\n",
    "    # return None, None, None\n",
    "    return Input, Targets, LearningRate\n",
    "\n",
    "\n",
    "\"\"\"\n",
    "DON'T MODIFY ANYTHING IN THIS CELL THAT IS BELOW THIS LINE\n",
    "\"\"\"\n",
    "tests.test_get_inputs(get_inputs)"
   ]
  },
  {
   "cell_type": "markdown",
   "metadata": {
    "deletable": true,
    "editable": true
   },
   "source": [
    "### Build RNN Cell and Initialize\n",
    "Stack one or more [`BasicLSTMCells`](https://www.tensorflow.org/api_docs/python/tf/contrib/rnn/BasicLSTMCell) in a [`MultiRNNCell`](https://www.tensorflow.org/api_docs/python/tf/contrib/rnn/MultiRNNCell).\n",
    "- The Rnn size should be set using `rnn_size`\n",
    "- Initalize Cell State using the MultiRNNCell's [`zero_state()`](https://www.tensorflow.org/api_docs/python/tf/contrib/rnn/MultiRNNCell#zero_state) function\n",
    "    - Apply the name \"initial_state\" to the initial state using [`tf.identity()`](https://www.tensorflow.org/api_docs/python/tf/identity)\n",
    "\n",
    "Return the cell and initial state in the following tuple `(Cell, InitialState)`"
   ]
  },
  {
   "cell_type": "code",
   "execution_count": 9,
   "metadata": {
    "collapsed": false,
    "deletable": true,
    "editable": true
   },
   "outputs": [
    {
     "name": "stdout",
     "output_type": "stream",
     "text": [
      "Tests Passed\n"
     ]
    }
   ],
   "source": [
    "def get_init_cell(batch_size, rnn_size):\n",
    "    \"\"\"\n",
    "    Create an RNN Cell and initialize it.\n",
    "    :param batch_size: Size of batches\n",
    "    :param rnn_size: Size of RNNs\n",
    "    :return: Tuple (cell, initialize state)\n",
    "    \"\"\"\n",
    "    # TODO: Implement Function\n",
    "    lstm = tf.contrib.rnn.BasicLSTMCell(rnn_size, state_is_tuple=True)\n",
    "    \n",
    "    keep_prob = 0.6\n",
    "    drop = tf.contrib.rnn.DropoutWrapper(lstm, output_keep_prob=keep_prob)\n",
    "    \n",
    "    num_layers = 1  # more layers yield slower convergence\n",
    "    Cell = tf.contrib.rnn.MultiRNNCell([drop] * num_layers)\n",
    "    \n",
    "    initial_state = Cell.zero_state(batch_size, tf.int32)\n",
    "    InitialState = tf.identity(initial_state, name='initial_state') \n",
    "    \n",
    "    # return None, None\n",
    "    return Cell, InitialState\n",
    "\n",
    "\n",
    "\"\"\"\n",
    "DON'T MODIFY ANYTHING IN THIS CELL THAT IS BELOW THIS LINE\n",
    "\"\"\"\n",
    "tests.test_get_init_cell(get_init_cell)"
   ]
  },
  {
   "cell_type": "markdown",
   "metadata": {
    "deletable": true,
    "editable": true
   },
   "source": [
    "### Word Embedding\n",
    "Apply embedding to `input_data` using TensorFlow.  Return the embedded sequence."
   ]
  },
  {
   "cell_type": "code",
   "execution_count": 10,
   "metadata": {
    "collapsed": false,
    "deletable": true,
    "editable": true
   },
   "outputs": [
    {
     "name": "stdout",
     "output_type": "stream",
     "text": [
      "Tests Passed\n"
     ]
    }
   ],
   "source": [
    "def get_embed(input_data, vocab_size, embed_dim):\n",
    "    \"\"\"\n",
    "    Create embedding for <input_data>.\n",
    "    :param input_data: TF placeholder for text input.\n",
    "    :param vocab_size: Number of words in vocabulary.\n",
    "    :param embed_dim: Number of embedding dimensions\n",
    "    :return: Embedded input.\n",
    "    \"\"\"\n",
    "    # TODO: Implement Function\n",
    "    embed_size = embed_dim \n",
    "\n",
    "    embedding = tf.Variable(tf.random_uniform((vocab_size, embed_size), -1, 1))\n",
    "    embed = tf.nn.embedding_lookup(embedding, input_data)\n",
    "    # return None\n",
    "    return embed\n",
    "\n",
    "\n",
    "\"\"\"\n",
    "DON'T MODIFY ANYTHING IN THIS CELL THAT IS BELOW THIS LINE\n",
    "\"\"\"\n",
    "tests.test_get_embed(get_embed)"
   ]
  },
  {
   "cell_type": "markdown",
   "metadata": {
    "deletable": true,
    "editable": true
   },
   "source": [
    "### Build RNN\n",
    "You created a RNN Cell in the `get_init_cell()` function.  Time to use the cell to create a RNN.\n",
    "- Build the RNN using the [`tf.nn.dynamic_rnn()`](https://www.tensorflow.org/api_docs/python/tf/nn/dynamic_rnn)\n",
    " - Apply the name \"final_state\" to the final state using [`tf.identity()`](https://www.tensorflow.org/api_docs/python/tf/identity)\n",
    "\n",
    "Return the outputs and final_state state in the following tuple `(Outputs, FinalState)` "
   ]
  },
  {
   "cell_type": "code",
   "execution_count": 11,
   "metadata": {
    "collapsed": false,
    "deletable": true,
    "editable": true
   },
   "outputs": [
    {
     "name": "stdout",
     "output_type": "stream",
     "text": [
      "Tests Passed\n"
     ]
    }
   ],
   "source": [
    "def build_rnn(cell, inputs):\n",
    "    \"\"\"\n",
    "    Create a RNN using a RNN Cell\n",
    "    :param cell: RNN Cell\n",
    "    :param inputs: Input text data\n",
    "    :return: Tuple (Outputs, Final State)\n",
    "    \"\"\"\n",
    "    \n",
    "    \n",
    "    # TODO: Implement Function\n",
    "    Outputs, final_state = tf.nn.dynamic_rnn(cell, inputs,dtype = tf.float32)\n",
    "    FinalState = tf.identity(final_state, name='final_state')\n",
    "    # return None, None\n",
    "    return Outputs, FinalState\n",
    "\n",
    "\n",
    "\"\"\"\n",
    "DON'T MODIFY ANYTHING IN THIS CELL THAT IS BELOW THIS LINE\n",
    "\"\"\"\n",
    "tests.test_build_rnn(build_rnn)"
   ]
  },
  {
   "cell_type": "markdown",
   "metadata": {
    "deletable": true,
    "editable": true
   },
   "source": [
    "### Build the Neural Network\n",
    "Apply the functions you implemented above to:\n",
    "- Apply embedding to `input_data` using your `get_embed(input_data, vocab_size, embed_dim)` function.\n",
    "- Build RNN using `cell` and your `build_rnn(cell, inputs)` function.\n",
    "- Apply a fully connected layer with a linear activation and `vocab_size` as the number of outputs.\n",
    "\n",
    "Return the logits and final state in the following tuple (Logits, FinalState) "
   ]
  },
  {
   "cell_type": "code",
   "execution_count": 12,
   "metadata": {
    "collapsed": false,
    "deletable": true,
    "editable": true
   },
   "outputs": [
    {
     "name": "stdout",
     "output_type": "stream",
     "text": [
      "Tests Passed\n"
     ]
    }
   ],
   "source": [
    "def build_nn(cell, rnn_size, input_data, vocab_size):\n",
    "    \"\"\"\n",
    "    Build part of the neural network\n",
    "    :param cell: RNN cell\n",
    "    :param rnn_size: Size of rnns\n",
    "    :param input_data: Input data\n",
    "    :param vocab_size: Vocabulary size\n",
    "    :return: Tuple (Logits, FinalState)\n",
    "    \"\"\"\n",
    "    # TODO: Implement Function\n",
    "    embed = get_embed (input_data, vocab_size, rnn_size)\n",
    "    Outputs, FinalState = build_rnn(cell, embed)\n",
    "    Logits = tf.contrib.layers.fully_connected(Outputs, vocab_size, weights_initializer = tf.truncated_normal_initializer(stddev = 0.01), activation_fn=None)\n",
    "    # return None, None\n",
    "    return Logits, FinalState\n",
    "\n",
    "\n",
    "\"\"\"\n",
    "DON'T MODIFY ANYTHING IN THIS CELL THAT IS BELOW THIS LINE\n",
    "\"\"\"\n",
    "tests.test_build_nn(build_nn)"
   ]
  },
  {
   "cell_type": "markdown",
   "metadata": {
    "deletable": true,
    "editable": true
   },
   "source": [
    "### Batches\n",
    "Implement `get_batches` to create batches of input and targets using `int_text`.  The batches should be a Numpy array with the shape `(number of batches, 2, batch size, sequence length)`. Each batch contains two elements:\n",
    "- The first element is a single batch of **input** with the shape `[batch size, sequence length]`\n",
    "- The second element is a single batch of **targets** with the shape `[batch size, sequence length]`\n",
    "\n",
    "If you can't fill the last batch with enough data, drop the last batch.\n",
    "\n",
    "For exmple, `get_batches([1, 2, 3, 4, 5, 6, 7, 8, 9, 10, 11, 12, 13, 14, 15], 2, 3)` would return a Numpy array of the following:\n",
    "```\n",
    "[\n",
    "  # First Batch\n",
    "  [\n",
    "    # Batch of Input\n",
    "    [[ 1  2  3], [ 7  8  9]],\n",
    "    # Batch of targets\n",
    "    [[ 2  3  4], [ 8  9 10]]\n",
    "  ],\n",
    " \n",
    "  # Second Batch\n",
    "  [\n",
    "    # Batch of Input\n",
    "    [[ 4  5  6], [10 11 12]],\n",
    "    # Batch of targets\n",
    "    [[ 5  6  7], [11 12 13]]\n",
    "  ]\n",
    "]\n",
    "```"
   ]
  },
  {
   "cell_type": "code",
   "execution_count": 13,
   "metadata": {
    "collapsed": false,
    "deletable": true,
    "editable": true
   },
   "outputs": [
    {
     "name": "stdout",
     "output_type": "stream",
     "text": [
      "Tests Passed\n"
     ]
    }
   ],
   "source": [
    "def get_batches(int_text, batch_size, seq_length):\n",
    "    \"\"\"\n",
    "    Return batches of input and target\n",
    "    :param int_text: Text with the words replaced by their ids\n",
    "    :param batch_size: The size of batch\n",
    "    :param seq_length: The length of sequence\n",
    "    :return: Batches as a Numpy array\n",
    "    \"\"\"\n",
    "    # TODO: Implement Function\n",
    "    n_batches = int(len(int_text) / (batch_size * seq_length))\n",
    "\n",
    "    # Drop the last few characters to make only full batches\n",
    "    xdata = np.array(int_text[: n_batches * batch_size * seq_length])\n",
    "    ydata = np.array(int_text[1: n_batches * batch_size * seq_length + 1])\n",
    "\n",
    "    x_batches = np.split(xdata.reshape(batch_size, -1), n_batches, 1)\n",
    "    y_batches = np.split(ydata.reshape(batch_size, -1), n_batches, 1)\n",
    "        \n",
    "    return np.array(list(zip(x_batches, y_batches)))\n",
    "\n",
    "\n",
    "\"\"\"\n",
    "num_steps can be seen as number of lstm/rnn cells. I think that's what the diagram you've posted is representing.\n",
    "\n",
    "num_class is the number of distinct characters in a corpus.\n",
    "\n",
    "batch_size represents number of examples in each batch. It's like you've a window with height as batch_size and width as num_steps.\n",
    "\"\"\"\n",
    "\"\"\"\n",
    "DON'T MODIFY ANYTHING IN THIS CELL THAT IS BELOW THIS LINE\n",
    "\"\"\"\n",
    "tests.test_get_batches(get_batches)"
   ]
  },
  {
   "cell_type": "markdown",
   "metadata": {
    "deletable": true,
    "editable": true
   },
   "source": [
    "## Neural Network Training\n",
    "### Hyperparameters\n",
    "Tune the following parameters:\n",
    "\n",
    "- Set `num_epochs` to the number of epochs.\n",
    "- Set `batch_size` to the batch size.\n",
    "- Set `rnn_size` to the size of the RNNs.\n",
    "- Set `seq_length` to the length of sequence.\n",
    "- Set `learning_rate` to the learning rate.\n",
    "- Set `show_every_n_batches` to the number of batches the neural network should print progress."
   ]
  },
  {
   "cell_type": "code",
   "execution_count": 14,
   "metadata": {
    "collapsed": true,
    "deletable": true,
    "editable": true
   },
   "outputs": [],
   "source": [
    "# Number of Epochs\n",
    "num_epochs = 1000\n",
    "# Batch Size\n",
    "batch_size = 1024   \n",
    "# RNN Size\n",
    "rnn_size = 256  # RNN size is the number of hidden units for LSTM/RNN cells\n",
    "# Sequence Length\n",
    "seq_length = 15\n",
    "# Learning Rate\n",
    "learning_rate = 0.001 \n",
    "# Show stats for every n number of batches\n",
    "show_every_n_batches = 25\n",
    "\n",
    "\"\"\"\n",
    "DON'T MODIFY ANYTHING IN THIS CELL THAT IS BELOW THIS LINE\n",
    "\"\"\"\n",
    "save_dir = './save'"
   ]
  },
  {
   "cell_type": "markdown",
   "metadata": {
    "deletable": true,
    "editable": true
   },
   "source": [
    "### Build the Graph\n",
    "Build the graph using the neural network you implemented."
   ]
  },
  {
   "cell_type": "code",
   "execution_count": 15,
   "metadata": {
    "collapsed": false,
    "deletable": true,
    "editable": true
   },
   "outputs": [],
   "source": [
    "\"\"\"\n",
    "DON'T MODIFY ANYTHING IN THIS CELL\n",
    "\"\"\"\n",
    "from tensorflow.contrib import seq2seq\n",
    "\n",
    "train_graph = tf.Graph()\n",
    "with train_graph.as_default():\n",
    "    vocab_size = len(int_to_vocab)\n",
    "    input_text, targets, lr = get_inputs()\n",
    "    input_data_shape = tf.shape(input_text)\n",
    "    cell, initial_state = get_init_cell(input_data_shape[0], rnn_size)\n",
    "    logits, final_state = build_nn(cell, rnn_size, input_text, vocab_size)\n",
    "\n",
    "    # Probabilities for generating words\n",
    "    probs = tf.nn.softmax(logits, name='probs')\n",
    "\n",
    "    # Loss function\n",
    "    cost = seq2seq.sequence_loss(\n",
    "        logits,\n",
    "        targets,\n",
    "        tf.ones([input_data_shape[0], input_data_shape[1]]))\n",
    "\n",
    "    # Optimizer\n",
    "    optimizer = tf.train.AdamOptimizer(lr)\n",
    "\n",
    "    # Gradient Clipping\n",
    "    gradients = optimizer.compute_gradients(cost)\n",
    "    capped_gradients = [(tf.clip_by_value(grad, -1., 1.), var) for grad, var in gradients]\n",
    "    train_op = optimizer.apply_gradients(capped_gradients)"
   ]
  },
  {
   "cell_type": "markdown",
   "metadata": {
    "deletable": true,
    "editable": true
   },
   "source": [
    "## Train\n",
    "Train the neural network on the preprocessed data.  If you have a hard time getting a good loss, check the [forms](https://discussions.udacity.com/) to see if anyone is having the same problem."
   ]
  },
  {
   "cell_type": "code",
   "execution_count": 16,
   "metadata": {
    "collapsed": false,
    "deletable": true,
    "editable": true
   },
   "outputs": [
    {
     "name": "stdout",
     "output_type": "stream",
     "text": [
      "Epoch   0 Batch    0/4   train_loss = 8.823\n",
      "Epoch   6 Batch    1/4   train_loss = 6.286\n",
      "Epoch  12 Batch    2/4   train_loss = 6.031\n",
      "Epoch  18 Batch    3/4   train_loss = 5.770\n",
      "Epoch  25 Batch    0/4   train_loss = 5.555\n",
      "Epoch  31 Batch    1/4   train_loss = 5.407\n",
      "Epoch  37 Batch    2/4   train_loss = 5.256\n",
      "Epoch  43 Batch    3/4   train_loss = 5.046\n",
      "Epoch  50 Batch    0/4   train_loss = 4.914\n",
      "Epoch  56 Batch    1/4   train_loss = 4.810\n",
      "Epoch  62 Batch    2/4   train_loss = 4.710\n",
      "Epoch  68 Batch    3/4   train_loss = 4.569\n",
      "Epoch  75 Batch    0/4   train_loss = 4.476\n",
      "Epoch  81 Batch    1/4   train_loss = 4.421\n",
      "Epoch  87 Batch    2/4   train_loss = 4.346\n",
      "Epoch  93 Batch    3/4   train_loss = 4.243\n",
      "Epoch 100 Batch    0/4   train_loss = 4.175\n",
      "Epoch 106 Batch    1/4   train_loss = 4.132\n",
      "Epoch 112 Batch    2/4   train_loss = 4.061\n",
      "Epoch 118 Batch    3/4   train_loss = 3.972\n",
      "Epoch 125 Batch    0/4   train_loss = 3.927\n",
      "Epoch 131 Batch    1/4   train_loss = 3.887\n",
      "Epoch 137 Batch    2/4   train_loss = 3.814\n",
      "Epoch 143 Batch    3/4   train_loss = 3.746\n",
      "Epoch 150 Batch    0/4   train_loss = 3.707\n",
      "Epoch 156 Batch    1/4   train_loss = 3.680\n",
      "Epoch 162 Batch    2/4   train_loss = 3.607\n",
      "Epoch 168 Batch    3/4   train_loss = 3.554\n",
      "Epoch 175 Batch    0/4   train_loss = 3.513\n",
      "Epoch 181 Batch    1/4   train_loss = 3.488\n",
      "Epoch 187 Batch    2/4   train_loss = 3.407\n",
      "Epoch 193 Batch    3/4   train_loss = 3.370\n",
      "Epoch 200 Batch    0/4   train_loss = 3.351\n",
      "Epoch 206 Batch    1/4   train_loss = 3.319\n",
      "Epoch 212 Batch    2/4   train_loss = 3.248\n",
      "Epoch 218 Batch    3/4   train_loss = 3.215\n",
      "Epoch 225 Batch    0/4   train_loss = 3.187\n",
      "Epoch 231 Batch    1/4   train_loss = 3.172\n",
      "Epoch 237 Batch    2/4   train_loss = 3.099\n",
      "Epoch 243 Batch    3/4   train_loss = 3.079\n",
      "Epoch 250 Batch    0/4   train_loss = 3.048\n",
      "Epoch 256 Batch    1/4   train_loss = 3.026\n",
      "Epoch 262 Batch    2/4   train_loss = 2.970\n",
      "Epoch 268 Batch    3/4   train_loss = 2.939\n",
      "Epoch 275 Batch    0/4   train_loss = 2.914\n",
      "Epoch 281 Batch    1/4   train_loss = 2.899\n",
      "Epoch 287 Batch    2/4   train_loss = 2.832\n",
      "Epoch 293 Batch    3/4   train_loss = 2.815\n",
      "Epoch 300 Batch    0/4   train_loss = 2.797\n",
      "Epoch 306 Batch    1/4   train_loss = 2.772\n",
      "Epoch 312 Batch    2/4   train_loss = 2.700\n",
      "Epoch 318 Batch    3/4   train_loss = 2.687\n",
      "Epoch 325 Batch    0/4   train_loss = 2.672\n",
      "Epoch 331 Batch    1/4   train_loss = 2.656\n",
      "Epoch 337 Batch    2/4   train_loss = 2.607\n",
      "Epoch 343 Batch    3/4   train_loss = 2.590\n",
      "Epoch 350 Batch    0/4   train_loss = 2.560\n",
      "Epoch 356 Batch    1/4   train_loss = 2.531\n",
      "Epoch 362 Batch    2/4   train_loss = 2.487\n",
      "Epoch 368 Batch    3/4   train_loss = 2.472\n",
      "Epoch 375 Batch    0/4   train_loss = 2.453\n",
      "Epoch 381 Batch    1/4   train_loss = 2.433\n",
      "Epoch 387 Batch    2/4   train_loss = 2.374\n",
      "Epoch 393 Batch    3/4   train_loss = 2.364\n",
      "Epoch 400 Batch    0/4   train_loss = 2.350\n",
      "Epoch 406 Batch    1/4   train_loss = 2.324\n",
      "Epoch 412 Batch    2/4   train_loss = 2.273\n",
      "Epoch 418 Batch    3/4   train_loss = 2.279\n",
      "Epoch 425 Batch    0/4   train_loss = 2.251\n",
      "Epoch 431 Batch    1/4   train_loss = 2.213\n",
      "Epoch 437 Batch    2/4   train_loss = 2.186\n",
      "Epoch 443 Batch    3/4   train_loss = 2.175\n",
      "Epoch 450 Batch    0/4   train_loss = 2.159\n",
      "Epoch 456 Batch    1/4   train_loss = 2.145\n",
      "Epoch 462 Batch    2/4   train_loss = 2.102\n",
      "Epoch 468 Batch    3/4   train_loss = 2.085\n",
      "Epoch 475 Batch    0/4   train_loss = 2.063\n",
      "Epoch 481 Batch    1/4   train_loss = 2.064\n",
      "Epoch 487 Batch    2/4   train_loss = 2.012\n",
      "Epoch 493 Batch    3/4   train_loss = 2.011\n",
      "Epoch 500 Batch    0/4   train_loss = 2.007\n",
      "Epoch 506 Batch    1/4   train_loss = 1.981\n",
      "Epoch 512 Batch    2/4   train_loss = 1.938\n",
      "Epoch 518 Batch    3/4   train_loss = 1.931\n",
      "Epoch 525 Batch    0/4   train_loss = 1.910\n",
      "Epoch 531 Batch    1/4   train_loss = 1.901\n",
      "Epoch 537 Batch    2/4   train_loss = 1.867\n",
      "Epoch 543 Batch    3/4   train_loss = 1.868\n",
      "Epoch 550 Batch    0/4   train_loss = 1.857\n",
      "Epoch 556 Batch    1/4   train_loss = 1.823\n",
      "Epoch 562 Batch    2/4   train_loss = 1.788\n",
      "Epoch 568 Batch    3/4   train_loss = 1.798\n",
      "Epoch 575 Batch    0/4   train_loss = 1.779\n",
      "Epoch 581 Batch    1/4   train_loss = 1.763\n",
      "Epoch 587 Batch    2/4   train_loss = 1.726\n",
      "Epoch 593 Batch    3/4   train_loss = 1.749\n",
      "Epoch 600 Batch    0/4   train_loss = 1.712\n",
      "Epoch 606 Batch    1/4   train_loss = 1.699\n",
      "Epoch 612 Batch    2/4   train_loss = 1.673\n",
      "Epoch 618 Batch    3/4   train_loss = 1.680\n",
      "Epoch 625 Batch    0/4   train_loss = 1.654\n",
      "Epoch 631 Batch    1/4   train_loss = 1.647\n",
      "Epoch 637 Batch    2/4   train_loss = 1.613\n",
      "Epoch 643 Batch    3/4   train_loss = 1.613\n",
      "Epoch 650 Batch    0/4   train_loss = 1.596\n",
      "Epoch 656 Batch    1/4   train_loss = 1.585\n",
      "Epoch 662 Batch    2/4   train_loss = 1.567\n",
      "Epoch 668 Batch    3/4   train_loss = 1.565\n",
      "Epoch 675 Batch    0/4   train_loss = 1.535\n",
      "Epoch 681 Batch    1/4   train_loss = 1.530\n",
      "Epoch 687 Batch    2/4   train_loss = 1.495\n",
      "Epoch 693 Batch    3/4   train_loss = 1.518\n",
      "Epoch 700 Batch    0/4   train_loss = 1.490\n",
      "Epoch 706 Batch    1/4   train_loss = 1.473\n",
      "Epoch 712 Batch    2/4   train_loss = 1.455\n",
      "Epoch 718 Batch    3/4   train_loss = 1.463\n",
      "Epoch 725 Batch    0/4   train_loss = 1.450\n",
      "Epoch 731 Batch    1/4   train_loss = 1.431\n",
      "Epoch 737 Batch    2/4   train_loss = 1.390\n",
      "Epoch 743 Batch    3/4   train_loss = 1.415\n",
      "Epoch 750 Batch    0/4   train_loss = 1.405\n",
      "Epoch 756 Batch    1/4   train_loss = 1.375\n",
      "Epoch 762 Batch    2/4   train_loss = 1.354\n",
      "Epoch 768 Batch    3/4   train_loss = 1.370\n",
      "Epoch 775 Batch    0/4   train_loss = 1.349\n",
      "Epoch 781 Batch    1/4   train_loss = 1.333\n",
      "Epoch 787 Batch    2/4   train_loss = 1.315\n",
      "Epoch 793 Batch    3/4   train_loss = 1.311\n",
      "Epoch 800 Batch    0/4   train_loss = 1.306\n",
      "Epoch 806 Batch    1/4   train_loss = 1.284\n",
      "Epoch 812 Batch    2/4   train_loss = 1.262\n",
      "Epoch 818 Batch    3/4   train_loss = 1.295\n",
      "Epoch 825 Batch    0/4   train_loss = 1.289\n",
      "Epoch 831 Batch    1/4   train_loss = 1.260\n",
      "Epoch 837 Batch    2/4   train_loss = 1.235\n",
      "Epoch 843 Batch    3/4   train_loss = 1.243\n",
      "Epoch 850 Batch    0/4   train_loss = 1.227\n",
      "Epoch 856 Batch    1/4   train_loss = 1.221\n",
      "Epoch 862 Batch    2/4   train_loss = 1.196\n",
      "Epoch 868 Batch    3/4   train_loss = 1.208\n",
      "Epoch 875 Batch    0/4   train_loss = 1.196\n",
      "Epoch 881 Batch    1/4   train_loss = 1.195\n",
      "Epoch 887 Batch    2/4   train_loss = 1.161\n",
      "Epoch 893 Batch    3/4   train_loss = 1.156\n",
      "Epoch 900 Batch    0/4   train_loss = 1.163\n",
      "Epoch 906 Batch    1/4   train_loss = 1.150\n",
      "Epoch 912 Batch    2/4   train_loss = 1.126\n",
      "Epoch 918 Batch    3/4   train_loss = 1.140\n",
      "Epoch 925 Batch    0/4   train_loss = 1.133\n",
      "Epoch 931 Batch    1/4   train_loss = 1.143\n",
      "Epoch 937 Batch    2/4   train_loss = 1.086\n",
      "Epoch 943 Batch    3/4   train_loss = 1.111\n",
      "Epoch 950 Batch    0/4   train_loss = 1.095\n",
      "Epoch 956 Batch    1/4   train_loss = 1.104\n",
      "Epoch 962 Batch    2/4   train_loss = 1.071\n",
      "Epoch 968 Batch    3/4   train_loss = 1.081\n",
      "Epoch 975 Batch    0/4   train_loss = 1.076\n",
      "Epoch 981 Batch    1/4   train_loss = 1.071\n",
      "Epoch 987 Batch    2/4   train_loss = 1.032\n",
      "Epoch 993 Batch    3/4   train_loss = 1.056\n",
      "Model Trained and Saved\n"
     ]
    }
   ],
   "source": [
    "\"\"\"\n",
    "DON'T MODIFY ANYTHING IN THIS CELL\n",
    "\"\"\"\n",
    "batches = get_batches(int_text, batch_size, seq_length)\n",
    "\n",
    "with tf.Session(graph=train_graph) as sess:\n",
    "    sess.run(tf.global_variables_initializer())\n",
    "\n",
    "    for epoch_i in range(num_epochs):\n",
    "        state = sess.run(initial_state, {input_text: batches[0][0]})\n",
    "\n",
    "        for batch_i, (x, y) in enumerate(batches):\n",
    "            feed = {\n",
    "                input_text: x,\n",
    "                targets: y,\n",
    "                initial_state: state,\n",
    "                lr: learning_rate}\n",
    "            train_loss, state, _ = sess.run([cost, final_state, train_op], feed)\n",
    "\n",
    "            # Show every <show_every_n_batches> batches\n",
    "            if (epoch_i * len(batches) + batch_i) % show_every_n_batches == 0:\n",
    "                print('Epoch {:>3} Batch {:>4}/{}   train_loss = {:.3f}'.format(\n",
    "                    epoch_i,\n",
    "                    batch_i,\n",
    "                    len(batches),\n",
    "                    train_loss))\n",
    "\n",
    "    # Save Model\n",
    "    saver = tf.train.Saver()\n",
    "    saver.save(sess, save_dir)\n",
    "    print('Model Trained and Saved')"
   ]
  },
  {
   "cell_type": "markdown",
   "metadata": {
    "deletable": true,
    "editable": true
   },
   "source": [
    "## Save Parameters\n",
    "Save `seq_length` and `save_dir` for generating a new TV script."
   ]
  },
  {
   "cell_type": "code",
   "execution_count": 17,
   "metadata": {
    "collapsed": false,
    "deletable": true,
    "editable": true
   },
   "outputs": [],
   "source": [
    "\"\"\"\n",
    "DON'T MODIFY ANYTHING IN THIS CELL\n",
    "\"\"\"\n",
    "# Save parameters for checkpoint\n",
    "helper.save_params((seq_length, save_dir))"
   ]
  },
  {
   "cell_type": "markdown",
   "metadata": {
    "deletable": true,
    "editable": true
   },
   "source": [
    "# Checkpoint"
   ]
  },
  {
   "cell_type": "code",
   "execution_count": 18,
   "metadata": {
    "collapsed": false,
    "deletable": true,
    "editable": true
   },
   "outputs": [],
   "source": [
    "\"\"\"\n",
    "DON'T MODIFY ANYTHING IN THIS CELL\n",
    "\"\"\"\n",
    "import tensorflow as tf\n",
    "import numpy as np\n",
    "import helper\n",
    "import problem_unittests as tests\n",
    "\n",
    "_, vocab_to_int, int_to_vocab, token_dict = helper.load_preprocess()\n",
    "seq_length, load_dir = helper.load_params()"
   ]
  },
  {
   "cell_type": "markdown",
   "metadata": {
    "deletable": true,
    "editable": true
   },
   "source": [
    "## Implement Generate Functions\n",
    "### Get Tensors\n",
    "Get tensors from `loaded_graph` using the function [`get_tensor_by_name()`](https://www.tensorflow.org/api_docs/python/tf/Graph#get_tensor_by_name).  Get the tensors using the following names:\n",
    "- \"input:0\"\n",
    "- \"initial_state:0\"\n",
    "- \"final_state:0\"\n",
    "- \"probs:0\"\n",
    "\n",
    "Return the tensors in the following tuple `(InputTensor, InitialStateTensor, FinalStateTensor, ProbsTensor)` "
   ]
  },
  {
   "cell_type": "code",
   "execution_count": 19,
   "metadata": {
    "collapsed": false,
    "deletable": true,
    "editable": true
   },
   "outputs": [
    {
     "name": "stdout",
     "output_type": "stream",
     "text": [
      "Tests Passed\n"
     ]
    }
   ],
   "source": [
    "def get_tensors(loaded_graph):\n",
    "    \"\"\"\n",
    "    Get input, initial state, final state, and probabilities tensor from <loaded_graph>\n",
    "    :param loaded_graph: TensorFlow graph loaded from file\n",
    "    :return: Tuple (InputTensor, InitialStateTensor, FinalStateTensor, ProbsTensor)\n",
    "    \"\"\"\n",
    "    # TODO: Implement Function\n",
    "    \n",
    "    # return None, None, None, None\n",
    "    with tf.Session(graph=loaded_graph) as sess:\n",
    "        \n",
    "        InputTensor = loaded_graph.get_tensor_by_name(\"input:0\")\n",
    "        InitialStateTensor = loaded_graph.get_tensor_by_name(\"initial_state:0\")\n",
    "        FinalStateTensor = loaded_graph.get_tensor_by_name(\"final_state:0\")\n",
    "        ProbsTensor = loaded_graph.get_tensor_by_name(\"probs:0\")\n",
    "        \n",
    "        return InputTensor, InitialStateTensor, FinalStateTensor, ProbsTensor\n",
    "\n",
    "\n",
    "\"\"\"\n",
    "DON'T MODIFY ANYTHING IN THIS CELL THAT IS BELOW THIS LINE\n",
    "\"\"\"\n",
    "tests.test_get_tensors(get_tensors)"
   ]
  },
  {
   "cell_type": "markdown",
   "metadata": {
    "deletable": true,
    "editable": true
   },
   "source": [
    "### Choose Word\n",
    "Implement the `pick_word()` function to select the next word using `probabilities`."
   ]
  },
  {
   "cell_type": "code",
   "execution_count": 20,
   "metadata": {
    "collapsed": false,
    "deletable": true,
    "editable": true,
    "scrolled": true
   },
   "outputs": [
    {
     "name": "stdout",
     "output_type": "stream",
     "text": [
      "Tests Passed\n"
     ]
    }
   ],
   "source": [
    "def pick_word(probabilities, int_to_vocab):\n",
    "    \"\"\"\n",
    "    Pick the next word in the generated text\n",
    "    :param probabilities: Probabilites of the next word\n",
    "    :param int_to_vocab: Dictionary of word ids as the keys and words as the values\n",
    "    :return: String of the predicted word\n",
    "    \"\"\"\n",
    "    # TODO: Implement Function\n",
    "    import numpy as np\n",
    "    # numpy.random.choice(a, size=None, replace=True, p=None)\n",
    "    \n",
    "    # in this case since you don't have 4 parameters in np.random.choice (you only have 3) \n",
    "    # so if you don't specifically define p= then it will take the params sequentially which is \n",
    "    # why when not defined it thinks p is the 3rd param.\n",
    "    \n",
    "\n",
    "    return np.random.choice(list(int_to_vocab.values()), 1, p=probabilities)[0]\n",
    "\n",
    "\"\"\"\n",
    "vocab_list = [\"hello\", \"how\", \"are\"]\n",
    "probabilities = [0.3,0.5,0.2]\n",
    "v = []\n",
    "for i in range(1000):\n",
    "    v.append(np.random.choice(vocab_list, p=probabilities))\n",
    "\n",
    "import collections\n",
    "collections.Counter(v)\n",
    "The occurrence of the output is almost similar to the probability distribution;\n",
    "Counter({'are': 208, 'hello': 293, 'how': 499})\n",
    "\"\"\"\n",
    "\n",
    "\"\"\"\n",
    "DON'T MODIFY ANYTHING IN THIS CELL THAT IS BELOW THIS LINE\n",
    "\"\"\"\n",
    "tests.test_pick_word(pick_word)"
   ]
  },
  {
   "cell_type": "markdown",
   "metadata": {
    "deletable": true,
    "editable": true
   },
   "source": [
    "## Generate TV Script\n",
    "This will generate the TV script for you.  Set `gen_length` to the length of TV script you want to generate."
   ]
  },
  {
   "cell_type": "code",
   "execution_count": 21,
   "metadata": {
    "collapsed": false,
    "deletable": true,
    "editable": true
   },
   "outputs": [
    {
     "name": "stdout",
     "output_type": "stream",
     "text": [
      "homer_simpson:(bitterly) playing nursemaid to chief wiggum,\" and make 'em in my beer.\n",
      "selma_bouvier: i should all relative.\n",
      "homer_simpson:(scared) oh, who put it out! i'm gonna call it all my friend.\n",
      "moe_szyslak: aw,, moe, i feel going to get a guy clean up.\n",
      "sideshow_mel: my barbara will you now dance by this beautiful, beautiful wuss was in.\n",
      "kent_brockman: i'm a british / not channel six tip.\n",
      "lenny_leonard: him. not.. all an american bank?\n",
      "moe_szyslak:(emotional sob)\n",
      "moe_szyslak: you did it all me time to a party! we'll said / homer-- i thought you can't sell two someone in the opportunity,\" steal lisa up, they say!\n",
      "moe_szyslak: ow.\n",
      "moe_szyslak:(not surprised) homer, just say out of the tv heart. you've got this in the woman who did you?\n",
      "glen: moron. you shouldn't beat to make amends for my disgraceful behavior...\n",
      "apu_nahasapeemapetilon:(quickly) our technical is two about\n"
     ]
    }
   ],
   "source": [
    "gen_length = 200\n",
    "# homer_simpson, moe_szyslak, or Barney_Gumble\n",
    "#prime_word = 'moe_szyslak'\n",
    "prime_word = 'homer_simpson'\n",
    "\n",
    "\n",
    "\"\"\"\n",
    "DON'T MODIFY ANYTHING IN THIS CELL THAT IS BELOW THIS LINE\n",
    "\"\"\"\n",
    "loaded_graph = tf.Graph()\n",
    "with tf.Session(graph=loaded_graph) as sess:\n",
    "    # Load saved model\n",
    "    loader = tf.train.import_meta_graph(load_dir + '.meta')\n",
    "    loader.restore(sess, load_dir)\n",
    "\n",
    "    # Get Tensors from loaded model\n",
    "    input_text, initial_state, final_state, probs = get_tensors(loaded_graph)\n",
    "\n",
    "    # Sentences generation setup\n",
    "    gen_sentences = [prime_word + ':']\n",
    "    prev_state = sess.run(initial_state, {input_text: np.array([[1]])})\n",
    "\n",
    "    # Generate sentences\n",
    "    for n in range(gen_length):\n",
    "        # Dynamic Input\n",
    "        dyn_input = [[vocab_to_int[word] for word in gen_sentences[-seq_length:]]]\n",
    "        dyn_seq_length = len(dyn_input[0])\n",
    "\n",
    "        # Get Prediction\n",
    "        probabilities, prev_state = sess.run(\n",
    "            [probs, final_state],\n",
    "            {input_text: dyn_input, initial_state: prev_state})\n",
    "        \n",
    "        pred_word = pick_word(probabilities[dyn_seq_length-1], int_to_vocab)\n",
    "\n",
    "        gen_sentences.append(pred_word)\n",
    "    \n",
    "    # Remove tokens\n",
    "    tv_script = ' '.join(gen_sentences)\n",
    "    for key, token in token_dict.items():\n",
    "        ending = ' ' if key in ['\\n', '(', '\"'] else ''\n",
    "        tv_script = tv_script.replace(' ' + token.lower(), key)\n",
    "    tv_script = tv_script.replace('\\n ', '\\n')\n",
    "    tv_script = tv_script.replace('( ', '(')\n",
    "        \n",
    "    print(tv_script)"
   ]
  },
  {
   "cell_type": "markdown",
   "metadata": {
    "deletable": true,
    "editable": true
   },
   "source": [
    "# The TV Script is Nonsensical\n",
    "It's ok if the TV script doesn't make any sense.  We trained on less than a megabyte of text.  In order to get good results, you'll have to use a smaller vocabulary or get more data.  Luckly there's more data!  As we mentioned in the begging of this project, this is a subset of [another dataset](https://www.kaggle.com/wcukierski/the-simpsons-by-the-data).  We didn't have you train on all the data, because that would take too long.  However, you are free to train your neural network on all the data.  After you complete the project, of course.\n",
    "# Submitting This Project\n",
    "When submitting this project, make sure to run all the cells before saving the notebook. Save the notebook file as \"dlnd_tv_script_generation.ipynb\" and save it as a HTML file under \"File\" -> \"Download as\". Include the \"helper.py\" and \"problem_unittests.py\" files in your submission."
   ]
  }
 ],
 "metadata": {
  "anaconda-cloud": {},
  "kernelspec": {
   "display_name": "Python 3",
   "language": "python",
   "name": "python3"
  },
  "language_info": {
   "codemirror_mode": {
    "name": "ipython",
    "version": 3
   },
   "file_extension": ".py",
   "mimetype": "text/x-python",
   "name": "python",
   "nbconvert_exporter": "python",
   "pygments_lexer": "ipython3",
   "version": "3.5.2"
  },
  "widgets": {
   "state": {},
   "version": "1.1.2"
  }
 },
 "nbformat": 4,
 "nbformat_minor": 0
}
